{
 "cells": [
  {
   "cell_type": "code",
   "execution_count": 379,
   "id": "59cf0078",
   "metadata": {},
   "outputs": [],
   "source": [
    "import json\n",
    "import copy\n",
    "import random\n",
    "import numpy as np\n",
    "import pandas as pd\n",
    "import math"
   ]
  },
  {
   "cell_type": "code",
   "execution_count": 172,
   "id": "2cc1132e",
   "metadata": {},
   "outputs": [],
   "source": [
    "lecturers = ['Kartelj', 'Cukic']\n",
    "classes = ['Racunarske mreze', 'Funkcionalno programiranje']\n",
    "groups = ['4i', '4r']\n",
    "rooms = ['704', '718']\n",
    "time_slots = range(0, 60)\n",
    "k = 5"
   ]
  },
  {
   "cell_type": "code",
   "execution_count": 8,
   "id": "e170ed38",
   "metadata": {},
   "outputs": [
    {
     "data": {
      "text/html": [
       "<div>\n",
       "<style scoped>\n",
       "    .dataframe tbody tr th:only-of-type {\n",
       "        vertical-align: middle;\n",
       "    }\n",
       "\n",
       "    .dataframe tbody tr th {\n",
       "        vertical-align: top;\n",
       "    }\n",
       "\n",
       "    .dataframe thead th {\n",
       "        text-align: right;\n",
       "    }\n",
       "</style>\n",
       "<table border=\"1\" class=\"dataframe\">\n",
       "  <thead>\n",
       "    <tr style=\"text-align: right;\">\n",
       "      <th></th>\n",
       "      <th>name</th>\n",
       "    </tr>\n",
       "  </thead>\n",
       "  <tbody>\n",
       "    <tr>\n",
       "      <th>0</th>\n",
       "      <td>Kartelj</td>\n",
       "    </tr>\n",
       "    <tr>\n",
       "      <th>1</th>\n",
       "      <td>Cukic</td>\n",
       "    </tr>\n",
       "    <tr>\n",
       "      <th>2</th>\n",
       "      <td>Mitic</td>\n",
       "    </tr>\n",
       "    <tr>\n",
       "      <th>3</th>\n",
       "      <td>Malkov</td>\n",
       "    </tr>\n",
       "  </tbody>\n",
       "</table>\n",
       "</div>"
      ],
      "text/plain": [
       "      name\n",
       "0  Kartelj\n",
       "1    Cukic\n",
       "2    Mitic\n",
       "3   Malkov"
      ]
     },
     "execution_count": 8,
     "metadata": {},
     "output_type": "execute_result"
    }
   ],
   "source": [
    "lecturers = pd.DataFrame(np.array([['Kartelj'], ['Cukic'], ['Mitic'], ['Malkov']]),\n",
    "                   columns=['name'])\n",
    "lecturers"
   ]
  },
  {
   "cell_type": "code",
   "execution_count": 37,
   "id": "74f613d7",
   "metadata": {},
   "outputs": [
    {
     "data": {
      "text/html": [
       "<div>\n",
       "<style scoped>\n",
       "    .dataframe tbody tr th:only-of-type {\n",
       "        vertical-align: middle;\n",
       "    }\n",
       "\n",
       "    .dataframe tbody tr th {\n",
       "        vertical-align: top;\n",
       "    }\n",
       "\n",
       "    .dataframe thead th {\n",
       "        text-align: right;\n",
       "    }\n",
       "</style>\n",
       "<table border=\"1\" class=\"dataframe\">\n",
       "  <thead>\n",
       "    <tr style=\"text-align: right;\">\n",
       "      <th></th>\n",
       "      <th>name</th>\n",
       "      <th>equipment</th>\n",
       "      <th>number_of_classes</th>\n",
       "    </tr>\n",
       "  </thead>\n",
       "  <tbody>\n",
       "    <tr>\n",
       "      <th>0</th>\n",
       "      <td>Racunarske mreze</td>\n",
       "      <td>None</td>\n",
       "      <td>2</td>\n",
       "    </tr>\n",
       "    <tr>\n",
       "      <th>1</th>\n",
       "      <td>Racunarske mreze - vezbe</td>\n",
       "      <td>racunari</td>\n",
       "      <td>3</td>\n",
       "    </tr>\n",
       "    <tr>\n",
       "      <th>2</th>\n",
       "      <td>Racunarska inteligencija</td>\n",
       "      <td>None</td>\n",
       "      <td>2</td>\n",
       "    </tr>\n",
       "    <tr>\n",
       "      <th>3</th>\n",
       "      <td>Racunarska inteligencija - vezbe</td>\n",
       "      <td>racunari</td>\n",
       "      <td>3</td>\n",
       "    </tr>\n",
       "    <tr>\n",
       "      <th>4</th>\n",
       "      <td>Funkcionalno programiranje</td>\n",
       "      <td>None</td>\n",
       "      <td>2</td>\n",
       "    </tr>\n",
       "    <tr>\n",
       "      <th>5</th>\n",
       "      <td>Funkcionalno programiranje - vezbe</td>\n",
       "      <td>racunari</td>\n",
       "      <td>3</td>\n",
       "    </tr>\n",
       "    <tr>\n",
       "      <th>6</th>\n",
       "      <td>Programiranje za veb</td>\n",
       "      <td>None</td>\n",
       "      <td>2</td>\n",
       "    </tr>\n",
       "    <tr>\n",
       "      <th>7</th>\n",
       "      <td>Programiranje za veb - vezbe</td>\n",
       "      <td>racunari</td>\n",
       "      <td>3</td>\n",
       "    </tr>\n",
       "    <tr>\n",
       "      <th>8</th>\n",
       "      <td>Istrazivanje podataka 2</td>\n",
       "      <td>None</td>\n",
       "      <td>2</td>\n",
       "    </tr>\n",
       "    <tr>\n",
       "      <th>9</th>\n",
       "      <td>Istrazivanje podataka 2 - vezbe</td>\n",
       "      <td>racunari</td>\n",
       "      <td>3</td>\n",
       "    </tr>\n",
       "    <tr>\n",
       "      <th>10</th>\n",
       "      <td>Razvoj sofvtvera</td>\n",
       "      <td>None</td>\n",
       "      <td>2</td>\n",
       "    </tr>\n",
       "    <tr>\n",
       "      <th>11</th>\n",
       "      <td>Razvoj softvera - vezbe</td>\n",
       "      <td>racunari</td>\n",
       "      <td>3</td>\n",
       "    </tr>\n",
       "    <tr>\n",
       "      <th>12</th>\n",
       "      <td>Projektovanje baza podataka</td>\n",
       "      <td>None</td>\n",
       "      <td>2</td>\n",
       "    </tr>\n",
       "    <tr>\n",
       "      <th>13</th>\n",
       "      <td>Projektovanje baza podataka - vezbe</td>\n",
       "      <td>racunari</td>\n",
       "      <td>3</td>\n",
       "    </tr>\n",
       "  </tbody>\n",
       "</table>\n",
       "</div>"
      ],
      "text/plain": [
       "                                   name equipment number_of_classes\n",
       "0                      Racunarske mreze      None                 2\n",
       "1              Racunarske mreze - vezbe  racunari                 3\n",
       "2              Racunarska inteligencija      None                 2\n",
       "3      Racunarska inteligencija - vezbe  racunari                 3\n",
       "4            Funkcionalno programiranje      None                 2\n",
       "5    Funkcionalno programiranje - vezbe  racunari                 3\n",
       "6                  Programiranje za veb      None                 2\n",
       "7          Programiranje za veb - vezbe  racunari                 3\n",
       "8               Istrazivanje podataka 2      None                 2\n",
       "9       Istrazivanje podataka 2 - vezbe  racunari                 3\n",
       "10                     Razvoj sofvtvera      None                 2\n",
       "11              Razvoj softvera - vezbe  racunari                 3\n",
       "12          Projektovanje baza podataka      None                 2\n",
       "13  Projektovanje baza podataka - vezbe  racunari                 3"
      ]
     },
     "execution_count": 37,
     "metadata": {},
     "output_type": "execute_result"
    }
   ],
   "source": [
    "classes = pd.DataFrame(np.array([['Racunarske mreze', None, 2], ['Racunarske mreze - vezbe', 'racunari', 3], \n",
    "                                 ['Racunarska inteligencija', None, 2], ['Racunarska inteligencija - vezbe', 'racunari', 3], \n",
    "                                 ['Funkcionalno programiranje', None, 2], ['Funkcionalno programiranje - vezbe', 'racunari', 3],\n",
    "                                 ['Programiranje za veb', None, 2], ['Programiranje za veb - vezbe', 'racunari', 3],\n",
    "                                 ['Istrazivanje podataka 2', None, 2], ['Istrazivanje podataka 2 - vezbe', 'racunari', 3],\n",
    "                                 ['Razvoj sofvtvera', None, 2], ['Razvoj softvera - vezbe', 'racunari', 3],\n",
    "                                 ['Projektovanje baza podataka', None, 2], ['Projektovanje baza podataka - vezbe', 'racunari', 3],\n",
    "                                ]), columns=['name', 'equipment', 'number_of_classes'])\n",
    "classes"
   ]
  },
  {
   "cell_type": "code",
   "execution_count": 133,
   "id": "1b159e38",
   "metadata": {},
   "outputs": [
    {
     "data": {
      "text/html": [
       "<div>\n",
       "<style scoped>\n",
       "    .dataframe tbody tr th:only-of-type {\n",
       "        vertical-align: middle;\n",
       "    }\n",
       "\n",
       "    .dataframe tbody tr th {\n",
       "        vertical-align: top;\n",
       "    }\n",
       "\n",
       "    .dataframe thead th {\n",
       "        text-align: right;\n",
       "    }\n",
       "</style>\n",
       "<table border=\"1\" class=\"dataframe\">\n",
       "  <thead>\n",
       "    <tr style=\"text-align: right;\">\n",
       "      <th></th>\n",
       "      <th>name</th>\n",
       "      <th>parent</th>\n",
       "    </tr>\n",
       "  </thead>\n",
       "  <tbody>\n",
       "    <tr>\n",
       "      <th>0</th>\n",
       "      <td>4i</td>\n",
       "      <td>None</td>\n",
       "    </tr>\n",
       "    <tr>\n",
       "      <th>1</th>\n",
       "      <td>4i1a</td>\n",
       "      <td>4i</td>\n",
       "    </tr>\n",
       "    <tr>\n",
       "      <th>2</th>\n",
       "      <td>4i1b</td>\n",
       "      <td>4i</td>\n",
       "    </tr>\n",
       "    <tr>\n",
       "      <th>3</th>\n",
       "      <td>4i2a</td>\n",
       "      <td>4i</td>\n",
       "    </tr>\n",
       "    <tr>\n",
       "      <th>4</th>\n",
       "      <td>4i2b</td>\n",
       "      <td>4i</td>\n",
       "    </tr>\n",
       "    <tr>\n",
       "      <th>5</th>\n",
       "      <td>4r</td>\n",
       "      <td>None</td>\n",
       "    </tr>\n",
       "    <tr>\n",
       "      <th>6</th>\n",
       "      <td>r4gr1</td>\n",
       "      <td>4r</td>\n",
       "    </tr>\n",
       "    <tr>\n",
       "      <th>7</th>\n",
       "      <td>r4gr2</td>\n",
       "      <td>4r</td>\n",
       "    </tr>\n",
       "    <tr>\n",
       "      <th>8</th>\n",
       "      <td>r4gr3</td>\n",
       "      <td>4r</td>\n",
       "    </tr>\n",
       "  </tbody>\n",
       "</table>\n",
       "</div>"
      ],
      "text/plain": [
       "    name parent\n",
       "0     4i   None\n",
       "1   4i1a     4i\n",
       "2   4i1b     4i\n",
       "3   4i2a     4i\n",
       "4   4i2b     4i\n",
       "5     4r   None\n",
       "6  r4gr1     4r\n",
       "7  r4gr2     4r\n",
       "8  r4gr3     4r"
      ]
     },
     "execution_count": 133,
     "metadata": {},
     "output_type": "execute_result"
    }
   ],
   "source": [
    "groups = pd.DataFrame(np.array([['4i', None], ['4i1a', '4i'], ['4i1b', '4i'], ['4i2a', '4i'], ['4i2b', '4i'],\n",
    "                                ['4r', None], ['r4gr1', '4r'], ['r4gr2', '4r'], ['r4gr3', '4r']\n",
    "                               ]), columns=['name', 'parent'])\n",
    "groups"
   ]
  },
  {
   "cell_type": "code",
   "execution_count": 17,
   "id": "20af266c",
   "metadata": {},
   "outputs": [
    {
     "data": {
      "text/html": [
       "<div>\n",
       "<style scoped>\n",
       "    .dataframe tbody tr th:only-of-type {\n",
       "        vertical-align: middle;\n",
       "    }\n",
       "\n",
       "    .dataframe tbody tr th {\n",
       "        vertical-align: top;\n",
       "    }\n",
       "\n",
       "    .dataframe thead th {\n",
       "        text-align: right;\n",
       "    }\n",
       "</style>\n",
       "<table border=\"1\" class=\"dataframe\">\n",
       "  <thead>\n",
       "    <tr style=\"text-align: right;\">\n",
       "      <th></th>\n",
       "      <th>name</th>\n",
       "    </tr>\n",
       "  </thead>\n",
       "  <tbody>\n",
       "    <tr>\n",
       "      <th>0</th>\n",
       "      <td>Studentski trg</td>\n",
       "    </tr>\n",
       "    <tr>\n",
       "      <th>1</th>\n",
       "      <td>Sv. Nikole</td>\n",
       "    </tr>\n",
       "    <tr>\n",
       "      <th>2</th>\n",
       "      <td>Jagic</td>\n",
       "    </tr>\n",
       "  </tbody>\n",
       "</table>\n",
       "</div>"
      ],
      "text/plain": [
       "             name\n",
       "0  Studentski trg\n",
       "1      Sv. Nikole\n",
       "2           Jagic"
      ]
     },
     "execution_count": 17,
     "metadata": {},
     "output_type": "execute_result"
    }
   ],
   "source": [
    "locations = pd.DataFrame(np.array([['Studentski trg'], ['Sv. Nikole'], ['Jagic']]), columns=['name'])\n",
    "locations"
   ]
  },
  {
   "cell_type": "code",
   "execution_count": 19,
   "id": "371495c3",
   "metadata": {},
   "outputs": [
    {
     "data": {
      "text/html": [
       "<div>\n",
       "<style scoped>\n",
       "    .dataframe tbody tr th:only-of-type {\n",
       "        vertical-align: middle;\n",
       "    }\n",
       "\n",
       "    .dataframe tbody tr th {\n",
       "        vertical-align: top;\n",
       "    }\n",
       "\n",
       "    .dataframe thead th {\n",
       "        text-align: right;\n",
       "    }\n",
       "</style>\n",
       "<table border=\"1\" class=\"dataframe\">\n",
       "  <thead>\n",
       "    <tr style=\"text-align: right;\">\n",
       "      <th></th>\n",
       "      <th>first</th>\n",
       "      <th>second</th>\n",
       "      <th>hours</th>\n",
       "    </tr>\n",
       "  </thead>\n",
       "  <tbody>\n",
       "    <tr>\n",
       "      <th>0</th>\n",
       "      <td>0</td>\n",
       "      <td>1</td>\n",
       "      <td>1</td>\n",
       "    </tr>\n",
       "    <tr>\n",
       "      <th>1</th>\n",
       "      <td>0</td>\n",
       "      <td>2</td>\n",
       "      <td>1</td>\n",
       "    </tr>\n",
       "    <tr>\n",
       "      <th>2</th>\n",
       "      <td>1</td>\n",
       "      <td>2</td>\n",
       "      <td>1</td>\n",
       "    </tr>\n",
       "  </tbody>\n",
       "</table>\n",
       "</div>"
      ],
      "text/plain": [
       "  first second hours\n",
       "0     0      1     1\n",
       "1     0      2     1\n",
       "2     1      2     1"
      ]
     },
     "execution_count": 19,
     "metadata": {},
     "output_type": "execute_result"
    }
   ],
   "source": [
    "location_distances = pd.DataFrame(np.array([['0', '1', 1], ['0', '2', 1], ['1', '2', 1]]), columns=['first', 'second', 'hours'])\n",
    "location_distances"
   ]
  },
  {
   "cell_type": "code",
   "execution_count": 36,
   "id": "b588fb85",
   "metadata": {},
   "outputs": [
    {
     "data": {
      "text/html": [
       "<div>\n",
       "<style scoped>\n",
       "    .dataframe tbody tr th:only-of-type {\n",
       "        vertical-align: middle;\n",
       "    }\n",
       "\n",
       "    .dataframe tbody tr th {\n",
       "        vertical-align: top;\n",
       "    }\n",
       "\n",
       "    .dataframe thead th {\n",
       "        text-align: right;\n",
       "    }\n",
       "</style>\n",
       "<table border=\"1\" class=\"dataframe\">\n",
       "  <thead>\n",
       "    <tr style=\"text-align: right;\">\n",
       "      <th></th>\n",
       "      <th>first</th>\n",
       "      <th>second</th>\n",
       "      <th>hours</th>\n",
       "    </tr>\n",
       "  </thead>\n",
       "  <tbody>\n",
       "    <tr>\n",
       "      <th>1</th>\n",
       "      <td>0</td>\n",
       "      <td>2</td>\n",
       "      <td>1</td>\n",
       "    </tr>\n",
       "  </tbody>\n",
       "</table>\n",
       "</div>"
      ],
      "text/plain": [
       "  first second hours\n",
       "1     0      2     1"
      ]
     },
     "execution_count": 36,
     "metadata": {},
     "output_type": "execute_result"
    }
   ],
   "source": [
    "var1 = 'Studentski trg'\n",
    "var2 = 'Jagic'\n",
    "location_distances[(location_distances['first'] == str(locations[locations['name'] == var1].index[0])) &\n",
    "                   (location_distances['second'] == str(locations[locations['name'] == var2].index[0]))]"
   ]
  },
  {
   "cell_type": "code",
   "execution_count": 402,
   "id": "3be2c0f9",
   "metadata": {},
   "outputs": [
    {
     "data": {
      "text/html": [
       "<div>\n",
       "<style scoped>\n",
       "    .dataframe tbody tr th:only-of-type {\n",
       "        vertical-align: middle;\n",
       "    }\n",
       "\n",
       "    .dataframe tbody tr th {\n",
       "        vertical-align: top;\n",
       "    }\n",
       "\n",
       "    .dataframe thead th {\n",
       "        text-align: right;\n",
       "    }\n",
       "</style>\n",
       "<table border=\"1\" class=\"dataframe\">\n",
       "  <thead>\n",
       "    <tr style=\"text-align: right;\">\n",
       "      <th></th>\n",
       "      <th>name</th>\n",
       "      <th>location</th>\n",
       "      <th>equipment</th>\n",
       "    </tr>\n",
       "  </thead>\n",
       "  <tbody>\n",
       "    <tr>\n",
       "      <th>0</th>\n",
       "      <td>704</td>\n",
       "      <td>0</td>\n",
       "      <td>racunari</td>\n",
       "    </tr>\n",
       "    <tr>\n",
       "      <th>1</th>\n",
       "      <td>718</td>\n",
       "      <td>0</td>\n",
       "      <td>racunari</td>\n",
       "    </tr>\n",
       "    <tr>\n",
       "      <th>2</th>\n",
       "      <td>706</td>\n",
       "      <td>0</td>\n",
       "      <td>None</td>\n",
       "    </tr>\n",
       "    <tr>\n",
       "      <th>3</th>\n",
       "      <td>821</td>\n",
       "      <td>0</td>\n",
       "      <td>None</td>\n",
       "    </tr>\n",
       "    <tr>\n",
       "      <th>4</th>\n",
       "      <td>BIM</td>\n",
       "      <td>0</td>\n",
       "      <td>racunari</td>\n",
       "    </tr>\n",
       "    <tr>\n",
       "      <th>5</th>\n",
       "      <td>RLAB</td>\n",
       "      <td>0</td>\n",
       "      <td>racunari</td>\n",
       "    </tr>\n",
       "    <tr>\n",
       "      <th>6</th>\n",
       "      <td>830</td>\n",
       "      <td>0</td>\n",
       "      <td>None</td>\n",
       "    </tr>\n",
       "  </tbody>\n",
       "</table>\n",
       "</div>"
      ],
      "text/plain": [
       "   name location equipment\n",
       "0   704        0  racunari\n",
       "1   718        0  racunari\n",
       "2   706        0      None\n",
       "3   821        0      None\n",
       "4   BIM        0  racunari\n",
       "5  RLAB        0  racunari\n",
       "6   830        0      None"
      ]
     },
     "execution_count": 402,
     "metadata": {},
     "output_type": "execute_result"
    }
   ],
   "source": [
    "rooms = pd.DataFrame(np.array([['704', '0', 'racunari'], ['718', '0', 'racunari'], ['706', '0', None], ['821', '0', None],\n",
    "                               ['BIM', '0', 'racunari'], ['RLAB', '0', 'racunari'], ['830', '0', None], ['N201', '1', 'racunari'],\n",
    "                               ['N202', '1', 'racunari'], ['N253', '1', None], ['Jag1', '2', 'racunari'],\n",
    "                               ['Jag2', '2', 'racunari'], ['Jag3', '2', None], ['Jag4', '2', None]\n",
    "                              ]), columns=['name', 'location', 'equipment'])\n",
    "rooms"
   ]
  },
  {
   "cell_type": "code",
   "execution_count": 30,
   "id": "59e6b9ea",
   "metadata": {},
   "outputs": [
    {
     "data": {
      "text/html": [
       "<div>\n",
       "<style scoped>\n",
       "    .dataframe tbody tr th:only-of-type {\n",
       "        vertical-align: middle;\n",
       "    }\n",
       "\n",
       "    .dataframe tbody tr th {\n",
       "        vertical-align: top;\n",
       "    }\n",
       "\n",
       "    .dataframe thead th {\n",
       "        text-align: right;\n",
       "    }\n",
       "</style>\n",
       "<table border=\"1\" class=\"dataframe\">\n",
       "  <thead>\n",
       "    <tr style=\"text-align: right;\">\n",
       "      <th></th>\n",
       "      <th>first</th>\n",
       "      <th>second</th>\n",
       "      <th>hours</th>\n",
       "    </tr>\n",
       "  </thead>\n",
       "  <tbody>\n",
       "    <tr>\n",
       "      <th>0</th>\n",
       "      <td>0</td>\n",
       "      <td>1</td>\n",
       "      <td>1</td>\n",
       "    </tr>\n",
       "    <tr>\n",
       "      <th>1</th>\n",
       "      <td>0</td>\n",
       "      <td>2</td>\n",
       "      <td>1</td>\n",
       "    </tr>\n",
       "  </tbody>\n",
       "</table>\n",
       "</div>"
      ],
      "text/plain": [
       "  first second hours\n",
       "0     0      1     1\n",
       "1     0      2     1"
      ]
     },
     "execution_count": 30,
     "metadata": {},
     "output_type": "execute_result"
    }
   ],
   "source": [
    "location_distances[location_distances['first'] == '0']"
   ]
  },
  {
   "cell_type": "code",
   "execution_count": 56,
   "id": "9bc6a83b",
   "metadata": {},
   "outputs": [
    {
     "data": {
      "text/html": [
       "<div>\n",
       "<style scoped>\n",
       "    .dataframe tbody tr th:only-of-type {\n",
       "        vertical-align: middle;\n",
       "    }\n",
       "\n",
       "    .dataframe tbody tr th {\n",
       "        vertical-align: top;\n",
       "    }\n",
       "\n",
       "    .dataframe thead th {\n",
       "        text-align: right;\n",
       "    }\n",
       "</style>\n",
       "<table border=\"1\" class=\"dataframe\">\n",
       "  <thead>\n",
       "    <tr style=\"text-align: right;\">\n",
       "      <th></th>\n",
       "      <th>first</th>\n",
       "      <th>second</th>\n",
       "      <th>hours</th>\n",
       "    </tr>\n",
       "  </thead>\n",
       "  <tbody>\n",
       "    <tr>\n",
       "      <th>0</th>\n",
       "      <td>0</td>\n",
       "      <td>1</td>\n",
       "      <td>1</td>\n",
       "    </tr>\n",
       "    <tr>\n",
       "      <th>1</th>\n",
       "      <td>0</td>\n",
       "      <td>2</td>\n",
       "      <td>1</td>\n",
       "    </tr>\n",
       "  </tbody>\n",
       "</table>\n",
       "</div>"
      ],
      "text/plain": [
       "  first second hours\n",
       "0     0      1     1\n",
       "1     0      2     1"
      ]
     },
     "execution_count": 56,
     "metadata": {},
     "output_type": "execute_result"
    }
   ],
   "source": [
    "location_distances[location_distances['first'] ==rooms.iloc[0].location]"
   ]
  },
  {
   "cell_type": "code",
   "execution_count": 76,
   "id": "fb548a01",
   "metadata": {},
   "outputs": [],
   "source": [
    "teaching_curriculum_json = '''{\n",
    "    \"0\": {\n",
    "        \"lecturer\": \"Kartelj\",\n",
    "        \"subject\": \"Racunarkse mreze\",\n",
    "        \"group\": \"4i\"\n",
    "    },\n",
    "    \"1\": {\n",
    "        \"lecturer\": \"Cukic\",\n",
    "        \"subject\": \"Funkcionalno programiranje\",\n",
    "        \"group\": \"4i\"\n",
    "    },\n",
    "    \"2\": {\n",
    "        \"lecturer\": \"Kartelj\",\n",
    "        \"subject\": \"Racunarkse mreze\",\n",
    "        \"group\": \"4r\"\n",
    "    },\n",
    "    \"3\": {\n",
    "        \"lecturer\": \"Cukic\",\n",
    "        \"subject\": \"Funkcionalno programiranje\",\n",
    "        \"group\": \"4r\"\n",
    "    }\n",
    "}'''"
   ]
  },
  {
   "cell_type": "code",
   "execution_count": 97,
   "id": "6b824ce0",
   "metadata": {},
   "outputs": [
    {
     "data": {
      "text/html": [
       "<div>\n",
       "<style scoped>\n",
       "    .dataframe tbody tr th:only-of-type {\n",
       "        vertical-align: middle;\n",
       "    }\n",
       "\n",
       "    .dataframe tbody tr th {\n",
       "        vertical-align: top;\n",
       "    }\n",
       "\n",
       "    .dataframe thead th {\n",
       "        text-align: right;\n",
       "    }\n",
       "</style>\n",
       "<table border=\"1\" class=\"dataframe\">\n",
       "  <thead>\n",
       "    <tr style=\"text-align: right;\">\n",
       "      <th></th>\n",
       "      <th>lecturer</th>\n",
       "      <th>class</th>\n",
       "      <th>groups</th>\n",
       "    </tr>\n",
       "  </thead>\n",
       "  <tbody>\n",
       "    <tr>\n",
       "      <th>0</th>\n",
       "      <td>0</td>\n",
       "      <td>0</td>\n",
       "      <td>{0}</td>\n",
       "    </tr>\n",
       "    <tr>\n",
       "      <th>1</th>\n",
       "      <td>0</td>\n",
       "      <td>1</td>\n",
       "      <td>{2, 1}</td>\n",
       "    </tr>\n",
       "    <tr>\n",
       "      <th>2</th>\n",
       "      <td>0</td>\n",
       "      <td>1</td>\n",
       "      <td>{4, 3}</td>\n",
       "    </tr>\n",
       "    <tr>\n",
       "      <th>3</th>\n",
       "      <td>3</td>\n",
       "      <td>10</td>\n",
       "      <td>{2, 1}</td>\n",
       "    </tr>\n",
       "    <tr>\n",
       "      <th>4</th>\n",
       "      <td>3</td>\n",
       "      <td>10</td>\n",
       "      <td>{4, 3, 5}</td>\n",
       "    </tr>\n",
       "    <tr>\n",
       "      <th>5</th>\n",
       "      <td>3</td>\n",
       "      <td>11</td>\n",
       "      <td>{1}</td>\n",
       "    </tr>\n",
       "    <tr>\n",
       "      <th>6</th>\n",
       "      <td>3</td>\n",
       "      <td>11</td>\n",
       "      <td>{2}</td>\n",
       "    </tr>\n",
       "    <tr>\n",
       "      <th>7</th>\n",
       "      <td>3</td>\n",
       "      <td>11</td>\n",
       "      <td>{5, 3}</td>\n",
       "    </tr>\n",
       "    <tr>\n",
       "      <th>8</th>\n",
       "      <td>3</td>\n",
       "      <td>11</td>\n",
       "      <td>{4}</td>\n",
       "    </tr>\n",
       "    <tr>\n",
       "      <th>9</th>\n",
       "      <td>2</td>\n",
       "      <td>8</td>\n",
       "      <td>{0}</td>\n",
       "    </tr>\n",
       "    <tr>\n",
       "      <th>10</th>\n",
       "      <td>2</td>\n",
       "      <td>9</td>\n",
       "      <td>{2, 1}</td>\n",
       "    </tr>\n",
       "    <tr>\n",
       "      <th>11</th>\n",
       "      <td>2</td>\n",
       "      <td>9</td>\n",
       "      <td>{4, 3}</td>\n",
       "    </tr>\n",
       "  </tbody>\n",
       "</table>\n",
       "</div>"
      ],
      "text/plain": [
       "   lecturer class     groups\n",
       "0         0     0        {0}\n",
       "1         0     1     {2, 1}\n",
       "2         0     1     {4, 3}\n",
       "3         3    10     {2, 1}\n",
       "4         3    10  {4, 3, 5}\n",
       "5         3    11        {1}\n",
       "6         3    11        {2}\n",
       "7         3    11     {5, 3}\n",
       "8         3    11        {4}\n",
       "9         2     8        {0}\n",
       "10        2     9     {2, 1}\n",
       "11        2     9     {4, 3}"
      ]
     },
     "execution_count": 97,
     "metadata": {},
     "output_type": "execute_result"
    }
   ],
   "source": [
    "teaching_curriculum = pd.DataFrame(np.array([['0', '0', {'0'}], ['0', '1', {'1', '2'}], ['0', '1', {'3', '4'}], ['3', '10', {'1', '2'}],\n",
    "                                             ['3', '10', {'3', '4', '5'}], ['3', '11', {'1'}], ['3', '11', {'2'}], ['3', '11', {'3', '5'}],\n",
    "                                             ['3', '11', {'4'}], ['2', '8', {'0'}], ['2', '9', {'1', '2'}], ['2', '9', {'3', '4'}]                                               \n",
    "                                            ]), columns=['lecturer', 'class', 'groups'])\n",
    "teaching_curriculum"
   ]
  },
  {
   "cell_type": "code",
   "execution_count": 121,
   "id": "3951c513",
   "metadata": {},
   "outputs": [],
   "source": [
    "teaching_curriculum_copy = teaching_curriculum.copy()"
   ]
  },
  {
   "cell_type": "code",
   "execution_count": 122,
   "id": "174e4b0c",
   "metadata": {},
   "outputs": [],
   "source": [
    "teaching_curriculum_copy['lecturer'] = lecturers.iloc[teaching_curriculum_copy['lecturer'].tolist()].name.tolist()\n",
    "teaching_curriculum_copy['class'] = classes.iloc[teaching_curriculum_copy['class'].tolist()].name.tolist()"
   ]
  },
  {
   "cell_type": "code",
   "execution_count": 139,
   "id": "90553420",
   "metadata": {},
   "outputs": [],
   "source": [
    "teaching_curriculum_copy['groups'] = list(map(lambda gs: list(map(lambda g: groups.iloc[int(g)]['name'], gs)), teaching_curriculum_copy['groups'].tolist()))"
   ]
  },
  {
   "cell_type": "code",
   "execution_count": 117,
   "id": "2c2b3366",
   "metadata": {},
   "outputs": [
    {
     "data": {
      "text/plain": [
       "['Kartelj',\n",
       " 'Kartelj',\n",
       " 'Kartelj',\n",
       " 'Malkov',\n",
       " 'Malkov',\n",
       " 'Malkov',\n",
       " 'Malkov',\n",
       " 'Malkov',\n",
       " 'Malkov',\n",
       " 'Mitic',\n",
       " 'Mitic',\n",
       " 'Mitic']"
      ]
     },
     "execution_count": 117,
     "metadata": {},
     "output_type": "execute_result"
    }
   ],
   "source": [
    "lecturers.iloc[teaching_curriculum_copy['lecturer'].tolist()].name.tolist()"
   ]
  },
  {
   "cell_type": "code",
   "execution_count": 140,
   "id": "ccf2b940",
   "metadata": {},
   "outputs": [
    {
     "data": {
      "text/html": [
       "<div>\n",
       "<style scoped>\n",
       "    .dataframe tbody tr th:only-of-type {\n",
       "        vertical-align: middle;\n",
       "    }\n",
       "\n",
       "    .dataframe tbody tr th {\n",
       "        vertical-align: top;\n",
       "    }\n",
       "\n",
       "    .dataframe thead th {\n",
       "        text-align: right;\n",
       "    }\n",
       "</style>\n",
       "<table border=\"1\" class=\"dataframe\">\n",
       "  <thead>\n",
       "    <tr style=\"text-align: right;\">\n",
       "      <th></th>\n",
       "      <th>lecturer</th>\n",
       "      <th>class</th>\n",
       "      <th>groups</th>\n",
       "    </tr>\n",
       "  </thead>\n",
       "  <tbody>\n",
       "    <tr>\n",
       "      <th>0</th>\n",
       "      <td>Kartelj</td>\n",
       "      <td>Racunarske mreze</td>\n",
       "      <td>[4i]</td>\n",
       "    </tr>\n",
       "    <tr>\n",
       "      <th>1</th>\n",
       "      <td>Kartelj</td>\n",
       "      <td>Racunarske mreze - vezbe</td>\n",
       "      <td>[4i1b, 4i1a]</td>\n",
       "    </tr>\n",
       "    <tr>\n",
       "      <th>2</th>\n",
       "      <td>Kartelj</td>\n",
       "      <td>Racunarske mreze - vezbe</td>\n",
       "      <td>[4i2b, 4i2a]</td>\n",
       "    </tr>\n",
       "    <tr>\n",
       "      <th>3</th>\n",
       "      <td>Malkov</td>\n",
       "      <td>Razvoj sofvtvera</td>\n",
       "      <td>[4i1b, 4i1a]</td>\n",
       "    </tr>\n",
       "    <tr>\n",
       "      <th>4</th>\n",
       "      <td>Malkov</td>\n",
       "      <td>Razvoj sofvtvera</td>\n",
       "      <td>[4i2b, 4i2a, 4r]</td>\n",
       "    </tr>\n",
       "    <tr>\n",
       "      <th>5</th>\n",
       "      <td>Malkov</td>\n",
       "      <td>Razvoj softvera - vezbe</td>\n",
       "      <td>[4i1a]</td>\n",
       "    </tr>\n",
       "    <tr>\n",
       "      <th>6</th>\n",
       "      <td>Malkov</td>\n",
       "      <td>Razvoj softvera - vezbe</td>\n",
       "      <td>[4i1b]</td>\n",
       "    </tr>\n",
       "    <tr>\n",
       "      <th>7</th>\n",
       "      <td>Malkov</td>\n",
       "      <td>Razvoj softvera - vezbe</td>\n",
       "      <td>[4r, 4i2a]</td>\n",
       "    </tr>\n",
       "    <tr>\n",
       "      <th>8</th>\n",
       "      <td>Malkov</td>\n",
       "      <td>Razvoj softvera - vezbe</td>\n",
       "      <td>[4i2b]</td>\n",
       "    </tr>\n",
       "    <tr>\n",
       "      <th>9</th>\n",
       "      <td>Mitic</td>\n",
       "      <td>Istrazivanje podataka 2</td>\n",
       "      <td>[4i]</td>\n",
       "    </tr>\n",
       "    <tr>\n",
       "      <th>10</th>\n",
       "      <td>Mitic</td>\n",
       "      <td>Istrazivanje podataka 2 - vezbe</td>\n",
       "      <td>[4i1b, 4i1a]</td>\n",
       "    </tr>\n",
       "    <tr>\n",
       "      <th>11</th>\n",
       "      <td>Mitic</td>\n",
       "      <td>Istrazivanje podataka 2 - vezbe</td>\n",
       "      <td>[4i2b, 4i2a]</td>\n",
       "    </tr>\n",
       "  </tbody>\n",
       "</table>\n",
       "</div>"
      ],
      "text/plain": [
       "   lecturer                            class            groups\n",
       "0   Kartelj                 Racunarske mreze              [4i]\n",
       "1   Kartelj         Racunarske mreze - vezbe      [4i1b, 4i1a]\n",
       "2   Kartelj         Racunarske mreze - vezbe      [4i2b, 4i2a]\n",
       "3    Malkov                 Razvoj sofvtvera      [4i1b, 4i1a]\n",
       "4    Malkov                 Razvoj sofvtvera  [4i2b, 4i2a, 4r]\n",
       "5    Malkov          Razvoj softvera - vezbe            [4i1a]\n",
       "6    Malkov          Razvoj softvera - vezbe            [4i1b]\n",
       "7    Malkov          Razvoj softvera - vezbe        [4r, 4i2a]\n",
       "8    Malkov          Razvoj softvera - vezbe            [4i2b]\n",
       "9     Mitic          Istrazivanje podataka 2              [4i]\n",
       "10    Mitic  Istrazivanje podataka 2 - vezbe      [4i1b, 4i1a]\n",
       "11    Mitic  Istrazivanje podataka 2 - vezbe      [4i2b, 4i2a]"
      ]
     },
     "execution_count": 140,
     "metadata": {},
     "output_type": "execute_result"
    }
   ],
   "source": [
    "teaching_curriculum_copy"
   ]
  },
  {
   "cell_type": "code",
   "execution_count": 158,
   "id": "95bf8944",
   "metadata": {},
   "outputs": [],
   "source": [
    "time_slots = range(0, 60)"
   ]
  },
  {
   "cell_type": "code",
   "execution_count": 142,
   "id": "6ce2b008",
   "metadata": {},
   "outputs": [
    {
     "data": {
      "text/html": [
       "<div>\n",
       "<style scoped>\n",
       "    .dataframe tbody tr th:only-of-type {\n",
       "        vertical-align: middle;\n",
       "    }\n",
       "\n",
       "    .dataframe tbody tr th {\n",
       "        vertical-align: top;\n",
       "    }\n",
       "\n",
       "    .dataframe thead th {\n",
       "        text-align: right;\n",
       "    }\n",
       "</style>\n",
       "<table border=\"1\" class=\"dataframe\">\n",
       "  <thead>\n",
       "    <tr style=\"text-align: right;\">\n",
       "      <th></th>\n",
       "      <th>room</th>\n",
       "      <th>time_slot</th>\n",
       "    </tr>\n",
       "  </thead>\n",
       "  <tbody>\n",
       "  </tbody>\n",
       "</table>\n",
       "</div>"
      ],
      "text/plain": [
       "Empty DataFrame\n",
       "Columns: [room, time_slot]\n",
       "Index: []"
      ]
     },
     "execution_count": 142,
     "metadata": {},
     "output_type": "execute_result"
    }
   ],
   "source": [
    "timetable = pd.DataFrame(columns = ['room', 'time_slot'])\n",
    "timetable"
   ]
  },
  {
   "cell_type": "code",
   "execution_count": 79,
   "id": "c7cdd4b4",
   "metadata": {},
   "outputs": [],
   "source": [
    "teaching_curriculum = json.loads(teaching_curriculum_json)"
   ]
  },
  {
   "cell_type": "code",
   "execution_count": 403,
   "id": "341426ca",
   "metadata": {},
   "outputs": [],
   "source": [
    "def init_timetable():\n",
    "    init = []\n",
    "    for i in range(teaching_curriculum.shape[0]):\n",
    "        init.append([rooms.iloc[i % len(rooms)].name, time_slots[i // len(rooms)]])\n",
    "    timetable = pd.DataFrame(np.array(init), columns = ['room', 'time_slot'])\n",
    "    return timetable"
   ]
  },
  {
   "cell_type": "code",
   "execution_count": 325,
   "id": "00499903",
   "metadata": {},
   "outputs": [
    {
     "data": {
      "text/html": [
       "<div>\n",
       "<style scoped>\n",
       "    .dataframe tbody tr th:only-of-type {\n",
       "        vertical-align: middle;\n",
       "    }\n",
       "\n",
       "    .dataframe tbody tr th {\n",
       "        vertical-align: top;\n",
       "    }\n",
       "\n",
       "    .dataframe thead th {\n",
       "        text-align: right;\n",
       "    }\n",
       "</style>\n",
       "<table border=\"1\" class=\"dataframe\">\n",
       "  <thead>\n",
       "    <tr style=\"text-align: right;\">\n",
       "      <th></th>\n",
       "      <th>room</th>\n",
       "      <th>time_slot</th>\n",
       "    </tr>\n",
       "  </thead>\n",
       "  <tbody>\n",
       "    <tr>\n",
       "      <th>0</th>\n",
       "      <td>0</td>\n",
       "      <td>0</td>\n",
       "    </tr>\n",
       "    <tr>\n",
       "      <th>1</th>\n",
       "      <td>1</td>\n",
       "      <td>0</td>\n",
       "    </tr>\n",
       "    <tr>\n",
       "      <th>2</th>\n",
       "      <td>2</td>\n",
       "      <td>0</td>\n",
       "    </tr>\n",
       "    <tr>\n",
       "      <th>3</th>\n",
       "      <td>3</td>\n",
       "      <td>0</td>\n",
       "    </tr>\n",
       "    <tr>\n",
       "      <th>4</th>\n",
       "      <td>4</td>\n",
       "      <td>0</td>\n",
       "    </tr>\n",
       "    <tr>\n",
       "      <th>5</th>\n",
       "      <td>5</td>\n",
       "      <td>0</td>\n",
       "    </tr>\n",
       "    <tr>\n",
       "      <th>6</th>\n",
       "      <td>6</td>\n",
       "      <td>0</td>\n",
       "    </tr>\n",
       "    <tr>\n",
       "      <th>7</th>\n",
       "      <td>7</td>\n",
       "      <td>0</td>\n",
       "    </tr>\n",
       "    <tr>\n",
       "      <th>8</th>\n",
       "      <td>8</td>\n",
       "      <td>0</td>\n",
       "    </tr>\n",
       "    <tr>\n",
       "      <th>9</th>\n",
       "      <td>9</td>\n",
       "      <td>0</td>\n",
       "    </tr>\n",
       "    <tr>\n",
       "      <th>10</th>\n",
       "      <td>10</td>\n",
       "      <td>0</td>\n",
       "    </tr>\n",
       "    <tr>\n",
       "      <th>11</th>\n",
       "      <td>11</td>\n",
       "      <td>0</td>\n",
       "    </tr>\n",
       "  </tbody>\n",
       "</table>\n",
       "</div>"
      ],
      "text/plain": [
       "    room  time_slot\n",
       "0      0          0\n",
       "1      1          0\n",
       "2      2          0\n",
       "3      3          0\n",
       "4      4          0\n",
       "5      5          0\n",
       "6      6          0\n",
       "7      7          0\n",
       "8      8          0\n",
       "9      9          0\n",
       "10    10          0\n",
       "11    11          0"
      ]
     },
     "execution_count": 325,
     "metadata": {},
     "output_type": "execute_result"
    }
   ],
   "source": [
    "timetable"
   ]
  },
  {
   "cell_type": "code",
   "execution_count": 113,
   "id": "7170fd34",
   "metadata": {},
   "outputs": [],
   "source": [
    "timetable = \n",
    "for tc in teaching_curriculum:\n",
    "    timetable[tc] = None"
   ]
  },
  {
   "cell_type": "code",
   "execution_count": 114,
   "id": "f4f619fb",
   "metadata": {},
   "outputs": [
    {
     "data": {
      "text/plain": [
       "{'0': None, '1': None, '2': None, '3': None}"
      ]
     },
     "execution_count": 114,
     "metadata": {},
     "output_type": "execute_result"
    }
   ],
   "source": [
    "timetable"
   ]
  },
  {
   "cell_type": "code",
   "execution_count": 82,
   "id": "9444a01d",
   "metadata": {},
   "outputs": [
    {
     "data": {
      "text/plain": [
       "range(0, 60)"
      ]
     },
     "execution_count": 82,
     "metadata": {},
     "output_type": "execute_result"
    }
   ],
   "source": [
    "time_slots"
   ]
  },
  {
   "cell_type": "code",
   "execution_count": 174,
   "id": "781e924e",
   "metadata": {},
   "outputs": [],
   "source": [
    "def init_timetable():\n",
    "    timetable = {}\n",
    "    for tc in teaching_curriculum:\n",
    "        timetable[tc] = None\n",
    "    for t in timetable:\n",
    "        i = int(t)\n",
    "        timetable[t] = (rooms[i % len(rooms)], time_slots[i // len(rooms)])\n",
    "    return timetable"
   ]
  },
  {
   "cell_type": "code",
   "execution_count": 116,
   "id": "cecd681e",
   "metadata": {},
   "outputs": [
    {
     "data": {
      "text/plain": [
       "{'0': ('704', 0), '1': ('718', 0), '2': ('704', 1), '3': ('718', 1)}"
      ]
     },
     "execution_count": 116,
     "metadata": {},
     "output_type": "execute_result"
    }
   ],
   "source": [
    "timetable"
   ]
  },
  {
   "cell_type": "code",
   "execution_count": 404,
   "id": "706eec29",
   "metadata": {},
   "outputs": [],
   "source": [
    "def are_classes_intersected(timetable,teaching_curriculum, i, j):\n",
    "    first = timetable.iloc[i]['time_slot'] + classes.iloc[int(teaching_curriculum.iloc[i]['class'])]['number_of_classes'] < timetable.iloc[j].time_slot\n",
    "    second = timetable.iloc[j]['time_slot'] + classes.iloc[int(teaching_curriculum.iloc[j]['class'])]['number_of_classes'] < timetable.iloc[i].time_slot\n",
    "    return not (first or second)"
   ]
  },
  {
   "cell_type": "code",
   "execution_count": 405,
   "id": "03b0cba4",
   "metadata": {},
   "outputs": [],
   "source": [
    "def are_groups_intersected(teaching_curriculum, i, j):\n",
    "    set1 = teaching_curriculum.iloc[i]['groups']\n",
    "    set2 = teaching_curriculum.iloc[j]['groups']\n",
    "    for el1 in set1:\n",
    "        for el2 in set2:\n",
    "            if el1 == el2 or groups.iloc[int(el1)]['name'] == groups.iloc[int(el2)]['parent'] or groups.iloc[int(el1)]['name'] == groups.iloc[int(el2)]['parent']:\n",
    "                return True\n",
    "    return False"
   ]
  },
  {
   "cell_type": "code",
   "execution_count": 273,
   "id": "1fe2466b",
   "metadata": {},
   "outputs": [
    {
     "data": {
      "text/plain": [
       "True"
      ]
     },
     "execution_count": 273,
     "metadata": {},
     "output_type": "execute_result"
    }
   ],
   "source": [
    "are_groups_intersected(teaching_curriculum, 0, 4)"
   ]
  },
  {
   "cell_type": "code",
   "execution_count": 406,
   "id": "9f03a3b5",
   "metadata": {},
   "outputs": [],
   "source": [
    "def lecturer_constraint(timetable, teaching_curriculum):\n",
    "    count = 0\n",
    "    for i in range(teaching_curriculum.shape[0]):\n",
    "        for j in range(i+1, teaching_curriculum.shape[0]):\n",
    "            if teaching_curriculum.iloc[i]['lecturer'] == teaching_curriculum.iloc[j]['lecturer'] and are_classes_intersected(timetable, teaching_curriculum, i, j):\n",
    "                count += 1\n",
    "    return count"
   ]
  },
  {
   "cell_type": "code",
   "execution_count": 407,
   "id": "ba689c36",
   "metadata": {},
   "outputs": [
    {
     "data": {
      "text/plain": [
       "1"
      ]
     },
     "execution_count": 407,
     "metadata": {},
     "output_type": "execute_result"
    }
   ],
   "source": [
    "lecturer_constraint(timetable,teaching_curriculum)"
   ]
  },
  {
   "cell_type": "code",
   "execution_count": 408,
   "id": "0914e1a1",
   "metadata": {},
   "outputs": [],
   "source": [
    "def group_constraint(timetable, teaching_curriculum):\n",
    "    count = 0\n",
    "    for i in range(teaching_curriculum.shape[0]):\n",
    "        for j in range(i+1, teaching_curriculum.shape[0]):\n",
    "            if are_groups_intersected(teaching_curriculum, i, j) and are_classes_intersected(timetable, teaching_curriculum, i, j):\n",
    "                count += 1\n",
    "    return count"
   ]
  },
  {
   "cell_type": "code",
   "execution_count": 289,
   "id": "4a81ac4d",
   "metadata": {},
   "outputs": [
    {
     "data": {
      "text/plain": [
       "31"
      ]
     },
     "execution_count": 289,
     "metadata": {},
     "output_type": "execute_result"
    }
   ],
   "source": [
    "group_constraint(timetable, teaching_curriculum)"
   ]
  },
  {
   "cell_type": "code",
   "execution_count": 409,
   "id": "59d2c696",
   "metadata": {},
   "outputs": [],
   "source": [
    "def room_constraint(timetable, teaching_curriculum):\n",
    "    count = 0\n",
    "    for i in range(teaching_curriculum.shape[0]):\n",
    "        for j in range(i+1, teaching_curriculum.shape[0]):\n",
    "            if timetable.iloc[i]['room'] == timetable.iloc[j]['room'] and are_classes_intersected(timetable, teaching_curriculum, i, j):\n",
    "                count += 1\n",
    "    return count"
   ]
  },
  {
   "cell_type": "code",
   "execution_count": 401,
   "id": "62dc0824",
   "metadata": {},
   "outputs": [
    {
     "data": {
      "text/plain": [
       "0"
      ]
     },
     "execution_count": 401,
     "metadata": {},
     "output_type": "execute_result"
    }
   ],
   "source": [
    "room_constraint(timetable, teaching_curriculum)"
   ]
  },
  {
   "cell_type": "code",
   "execution_count": 410,
   "id": "7a2e30dc",
   "metadata": {},
   "outputs": [],
   "source": [
    "def calculate_fittnes(timetable, teaching_curriculum):\n",
    "    return lecturer_constraint(timetable, teaching_curriculum) + group_constraint(timetable, teaching_curriculum) + room_constraint(timetable, teaching_curriculum)"
   ]
  },
  {
   "cell_type": "code",
   "execution_count": 293,
   "id": "7aded426",
   "metadata": {},
   "outputs": [
    {
     "data": {
      "text/plain": [
       "52"
      ]
     },
     "execution_count": 293,
     "metadata": {},
     "output_type": "execute_result"
    }
   ],
   "source": [
    "calculate_fittnes(timetable, teaching_curriculum)"
   ]
  },
  {
   "cell_type": "code",
   "execution_count": 411,
   "id": "f0361527",
   "metadata": {},
   "outputs": [],
   "source": [
    "def local_search(timetable, teaching_curriculum):\n",
    "    best_timetable = timetable.copy()\n",
    "    best_fitness = calculate_fittnes(timetable, teaching_curriculum)\n",
    "    while(True):\n",
    "        for i in range(timetable.shape[0]):\n",
    "            timeslot_range = range(12 * (timetable.iloc[i]['time_slot'] // 12), 12 * (timetable.iloc[i]['time_slot'] // 12 + 1) - classes.iloc[int(teaching_curriculum.iloc[i]['class'])]['number_of_classes'] + 1)\n",
    "            for timeslot in timeslot_range:\n",
    "                current_timetable = timetable.copy()\n",
    "                current_timetable.iloc[i]['time_slot'] = timeslot\n",
    "                current_fittness = calculate_fittnes(current_timetable, teaching_curriculum)\n",
    "                if current_fittness < best_fitness:\n",
    "                    best_timetable = current_timetable.copy()\n",
    "                    best_fitness = current_fittness\n",
    "            for j in range(rooms.shape[0]):\n",
    "                current_timetable = timetable.copy()\n",
    "                current_timetable.iloc[i]['room'] = rooms.iloc[j].name\n",
    "                current_fittness = calculate_fittnes(current_timetable, teaching_curriculum)\n",
    "                if current_fittness < best_fitness:\n",
    "                    best_timetable = current_timetable.copy()\n",
    "                    best_fitness = current_fittness\n",
    "        if best_fitness < calculate_fittnes(timetable, teaching_curriculum):\n",
    "            print(best_fitness)\n",
    "            timetable = best_timetable.copy()\n",
    "        else:\n",
    "            break\n",
    "    return timetable"
   ]
  },
  {
   "cell_type": "code",
   "execution_count": 412,
   "id": "dd6af13b",
   "metadata": {},
   "outputs": [],
   "source": [
    "def shaking(timetable, teaching_curriculum):\n",
    "    time_table_shaking = timetable.copy()\n",
    "    for j in range(k):\n",
    "        random_timetable_index = random.choice(range(timetable.shape[0]))\n",
    "        random_room_index = random.choice(range(rooms.shape[0]))\n",
    "        random_timeslot = random.choice(time_slots)\n",
    "        while(random_timeslot % 12 + classes.iloc[int(teaching_curriculum.iloc[random_timetable_index]['class'])]['number_of_classes'] > 11):\n",
    "            random_timeslot = random.choice(time_slots)\n",
    "        time_table_shaking.iloc[random_timetable_index] = np.array([[random_room_index, random_timeslot]])\n",
    "    return time_table_shaking"
   ]
  },
  {
   "cell_type": "code",
   "execution_count": 413,
   "id": "c73c196e",
   "metadata": {},
   "outputs": [
    {
     "name": "stdout",
     "output_type": "stream",
     "text": [
      "init 57\n",
      "iteration 0\n",
      "3\n",
      "2\n",
      "1\n",
      "0\n",
      "iteration 1\n",
      "5\n",
      "3\n",
      "2\n",
      "1\n",
      "iteration 2\n",
      "iteration 3\n",
      "5\n",
      "3\n",
      "2\n",
      "iteration 4\n",
      "3\n",
      "2\n",
      "1\n",
      "0\n",
      "iteration 5\n",
      "2\n",
      "1\n"
     ]
    },
    {
     "ename": "KeyboardInterrupt",
     "evalue": "",
     "output_type": "error",
     "traceback": [
      "\u001b[1;31m---------------------------------------------------------------------------\u001b[0m",
      "\u001b[1;31mKeyboardInterrupt\u001b[0m                         Traceback (most recent call last)",
      "Cell \u001b[1;32mIn[413], line 8\u001b[0m\n\u001b[0;32m      6\u001b[0m timetable \u001b[38;5;241m=\u001b[39m result_timetable\u001b[38;5;241m.\u001b[39mcopy()\n\u001b[0;32m      7\u001b[0m timetable \u001b[38;5;241m=\u001b[39m shaking(timetable, teaching_curriculum)\n\u001b[1;32m----> 8\u001b[0m timetable \u001b[38;5;241m=\u001b[39m \u001b[43mlocal_search\u001b[49m\u001b[43m(\u001b[49m\u001b[43mtimetable\u001b[49m\u001b[43m,\u001b[49m\u001b[43m \u001b[49m\u001b[43mteaching_curriculum\u001b[49m\u001b[43m)\u001b[49m\n\u001b[0;32m      9\u001b[0m \u001b[38;5;28;01mif\u001b[39;00m calculate_fittnes(timetable, teaching_curriculum) \u001b[38;5;241m<\u001b[39m calculate_fittnes(result_timetable, teaching_curriculum):\n\u001b[0;32m     10\u001b[0m     result_timetable \u001b[38;5;241m=\u001b[39m timetable\n",
      "Cell \u001b[1;32mIn[411], line 17\u001b[0m, in \u001b[0;36mlocal_search\u001b[1;34m(timetable, teaching_curriculum)\u001b[0m\n\u001b[0;32m     15\u001b[0m current_timetable \u001b[38;5;241m=\u001b[39m timetable\u001b[38;5;241m.\u001b[39mcopy()\n\u001b[0;32m     16\u001b[0m current_timetable\u001b[38;5;241m.\u001b[39miloc[i][\u001b[38;5;124m'\u001b[39m\u001b[38;5;124mroom\u001b[39m\u001b[38;5;124m'\u001b[39m] \u001b[38;5;241m=\u001b[39m rooms\u001b[38;5;241m.\u001b[39miloc[j]\u001b[38;5;241m.\u001b[39mname\n\u001b[1;32m---> 17\u001b[0m current_fittness \u001b[38;5;241m=\u001b[39m \u001b[43mcalculate_fittnes\u001b[49m\u001b[43m(\u001b[49m\u001b[43mcurrent_timetable\u001b[49m\u001b[43m,\u001b[49m\u001b[43m \u001b[49m\u001b[43mteaching_curriculum\u001b[49m\u001b[43m)\u001b[49m\n\u001b[0;32m     18\u001b[0m \u001b[38;5;28;01mif\u001b[39;00m current_fittness \u001b[38;5;241m<\u001b[39m best_fitness:\n\u001b[0;32m     19\u001b[0m     best_timetable \u001b[38;5;241m=\u001b[39m current_timetable\u001b[38;5;241m.\u001b[39mcopy()\n",
      "Cell \u001b[1;32mIn[410], line 2\u001b[0m, in \u001b[0;36mcalculate_fittnes\u001b[1;34m(timetable, teaching_curriculum)\u001b[0m\n\u001b[0;32m      1\u001b[0m \u001b[38;5;28;01mdef\u001b[39;00m \u001b[38;5;21mcalculate_fittnes\u001b[39m(timetable, teaching_curriculum):\n\u001b[1;32m----> 2\u001b[0m     \u001b[38;5;28;01mreturn\u001b[39;00m \u001b[43mlecturer_constraint\u001b[49m\u001b[43m(\u001b[49m\u001b[43mtimetable\u001b[49m\u001b[43m,\u001b[49m\u001b[43m \u001b[49m\u001b[43mteaching_curriculum\u001b[49m\u001b[43m)\u001b[49m \u001b[38;5;241m+\u001b[39m group_constraint(timetable, teaching_curriculum) \u001b[38;5;241m+\u001b[39m room_constraint(timetable, teaching_curriculum)\n",
      "Cell \u001b[1;32mIn[406], line 5\u001b[0m, in \u001b[0;36mlecturer_constraint\u001b[1;34m(timetable, teaching_curriculum)\u001b[0m\n\u001b[0;32m      3\u001b[0m \u001b[38;5;28;01mfor\u001b[39;00m i \u001b[38;5;129;01min\u001b[39;00m \u001b[38;5;28mrange\u001b[39m(teaching_curriculum\u001b[38;5;241m.\u001b[39mshape[\u001b[38;5;241m0\u001b[39m]):\n\u001b[0;32m      4\u001b[0m     \u001b[38;5;28;01mfor\u001b[39;00m j \u001b[38;5;129;01min\u001b[39;00m \u001b[38;5;28mrange\u001b[39m(i\u001b[38;5;241m+\u001b[39m\u001b[38;5;241m1\u001b[39m, teaching_curriculum\u001b[38;5;241m.\u001b[39mshape[\u001b[38;5;241m0\u001b[39m]):\n\u001b[1;32m----> 5\u001b[0m         \u001b[38;5;28;01mif\u001b[39;00m teaching_curriculum\u001b[38;5;241m.\u001b[39miloc[i][\u001b[38;5;124m'\u001b[39m\u001b[38;5;124mlecturer\u001b[39m\u001b[38;5;124m'\u001b[39m] \u001b[38;5;241m==\u001b[39m teaching_curriculum\u001b[38;5;241m.\u001b[39miloc[j][\u001b[38;5;124m'\u001b[39m\u001b[38;5;124mlecturer\u001b[39m\u001b[38;5;124m'\u001b[39m] \u001b[38;5;129;01mand\u001b[39;00m \u001b[43mare_classes_intersected\u001b[49m\u001b[43m(\u001b[49m\u001b[43mtimetable\u001b[49m\u001b[43m,\u001b[49m\u001b[43m \u001b[49m\u001b[43mteaching_curriculum\u001b[49m\u001b[43m,\u001b[49m\u001b[43m \u001b[49m\u001b[43mi\u001b[49m\u001b[43m,\u001b[49m\u001b[43m \u001b[49m\u001b[43mj\u001b[49m\u001b[43m)\u001b[49m:\n\u001b[0;32m      6\u001b[0m             count \u001b[38;5;241m+\u001b[39m\u001b[38;5;241m=\u001b[39m \u001b[38;5;241m1\u001b[39m\n\u001b[0;32m      7\u001b[0m \u001b[38;5;28;01mreturn\u001b[39;00m count\n",
      "Cell \u001b[1;32mIn[404], line 2\u001b[0m, in \u001b[0;36mare_classes_intersected\u001b[1;34m(timetable, teaching_curriculum, i, j)\u001b[0m\n\u001b[0;32m      1\u001b[0m \u001b[38;5;28;01mdef\u001b[39;00m \u001b[38;5;21mare_classes_intersected\u001b[39m(timetable,teaching_curriculum, i, j):\n\u001b[1;32m----> 2\u001b[0m     first \u001b[38;5;241m=\u001b[39m timetable\u001b[38;5;241m.\u001b[39miloc[i][\u001b[38;5;124m'\u001b[39m\u001b[38;5;124mtime_slot\u001b[39m\u001b[38;5;124m'\u001b[39m] \u001b[38;5;241m+\u001b[39m classes\u001b[38;5;241m.\u001b[39miloc[\u001b[38;5;28mint\u001b[39m(teaching_curriculum\u001b[38;5;241m.\u001b[39miloc[i][\u001b[38;5;124m'\u001b[39m\u001b[38;5;124mclass\u001b[39m\u001b[38;5;124m'\u001b[39m])][\u001b[38;5;124m'\u001b[39m\u001b[38;5;124mnumber_of_classes\u001b[39m\u001b[38;5;124m'\u001b[39m] \u001b[38;5;241m<\u001b[39m \u001b[43mtimetable\u001b[49m\u001b[38;5;241;43m.\u001b[39;49m\u001b[43miloc\u001b[49m\u001b[43m[\u001b[49m\u001b[43mj\u001b[49m\u001b[43m]\u001b[49m\u001b[38;5;241m.\u001b[39mtime_slot\n\u001b[0;32m      3\u001b[0m     second \u001b[38;5;241m=\u001b[39m timetable\u001b[38;5;241m.\u001b[39miloc[j][\u001b[38;5;124m'\u001b[39m\u001b[38;5;124mtime_slot\u001b[39m\u001b[38;5;124m'\u001b[39m] \u001b[38;5;241m+\u001b[39m classes\u001b[38;5;241m.\u001b[39miloc[\u001b[38;5;28mint\u001b[39m(teaching_curriculum\u001b[38;5;241m.\u001b[39miloc[j][\u001b[38;5;124m'\u001b[39m\u001b[38;5;124mclass\u001b[39m\u001b[38;5;124m'\u001b[39m])][\u001b[38;5;124m'\u001b[39m\u001b[38;5;124mnumber_of_classes\u001b[39m\u001b[38;5;124m'\u001b[39m] \u001b[38;5;241m<\u001b[39m timetable\u001b[38;5;241m.\u001b[39miloc[i]\u001b[38;5;241m.\u001b[39mtime_slot\n\u001b[0;32m      4\u001b[0m     \u001b[38;5;28;01mreturn\u001b[39;00m \u001b[38;5;129;01mnot\u001b[39;00m (first \u001b[38;5;129;01mor\u001b[39;00m second)\n",
      "File \u001b[1;32m~\\AppData\\Local\\Programs\\Python\\Python311\\Lib\\site-packages\\pandas\\core\\indexing.py:1059\u001b[0m, in \u001b[0;36m_LocationIndexer.__getitem__\u001b[1;34m(self, key)\u001b[0m\n\u001b[0;32m   1056\u001b[0m \u001b[38;5;28;01mdef\u001b[39;00m \u001b[38;5;21m_convert_to_indexer\u001b[39m(\u001b[38;5;28mself\u001b[39m, key, axis: \u001b[38;5;28mint\u001b[39m):\n\u001b[0;32m   1057\u001b[0m     \u001b[38;5;28;01mraise\u001b[39;00m AbstractMethodError(\u001b[38;5;28mself\u001b[39m)\n\u001b[1;32m-> 1059\u001b[0m \u001b[38;5;129m@final\u001b[39m\n\u001b[0;32m   1060\u001b[0m \u001b[38;5;28;01mdef\u001b[39;00m \u001b[38;5;21m__getitem__\u001b[39m(\u001b[38;5;28mself\u001b[39m, key):\n\u001b[0;32m   1061\u001b[0m     check_deprecated_indexers(key)\n\u001b[0;32m   1062\u001b[0m     \u001b[38;5;28;01mif\u001b[39;00m \u001b[38;5;28mtype\u001b[39m(key) \u001b[38;5;129;01mis\u001b[39;00m \u001b[38;5;28mtuple\u001b[39m:\n",
      "\u001b[1;31mKeyboardInterrupt\u001b[0m: "
     ]
    }
   ],
   "source": [
    "k = 40\n",
    "result_timetable = init_timetable()\n",
    "print('init', calculate_fittnes(result_timetable, teaching_curriculum))\n",
    "for i in range(30):\n",
    "    print('iteration', i)\n",
    "    timetable = result_timetable.copy()\n",
    "    timetable = shaking(timetable, teaching_curriculum)\n",
    "    timetable = local_search(timetable, teaching_curriculum)\n",
    "    if calculate_fittnes(timetable, teaching_curriculum) < calculate_fittnes(result_timetable, teaching_curriculum):\n",
    "        result_timetable = timetable"
   ]
  },
  {
   "cell_type": "code",
   "execution_count": 392,
   "id": "810baf4f",
   "metadata": {},
   "outputs": [
    {
     "data": {
      "text/plain": [
       "range(24, 35)"
      ]
     },
     "execution_count": 392,
     "metadata": {},
     "output_type": "execute_result"
    }
   ],
   "source": [
    "timeslot_range = range(12 * (timetable.iloc[0]['time_slot'] // 12), 12 * (timetable.iloc[0]['time_slot'] // 12 + 1) - classes.iloc[int(teaching_curriculum.iloc[0]['class'])]['number_of_classes'] + 1)\n",
    "timeslot_range"
   ]
  },
  {
   "cell_type": "code",
   "execution_count": 396,
   "id": "d38eefe7",
   "metadata": {},
   "outputs": [
    {
     "data": {
      "text/plain": [
       "0"
      ]
     },
     "execution_count": 396,
     "metadata": {},
     "output_type": "execute_result"
    }
   ],
   "source": [
    "calculate_fittnes(result_timetable, teaching_curriculum)"
   ]
  },
  {
   "cell_type": "code",
   "execution_count": 414,
   "id": "7f5f1538",
   "metadata": {},
   "outputs": [
    {
     "data": {
      "text/html": [
       "<div>\n",
       "<style scoped>\n",
       "    .dataframe tbody tr th:only-of-type {\n",
       "        vertical-align: middle;\n",
       "    }\n",
       "\n",
       "    .dataframe tbody tr th {\n",
       "        vertical-align: top;\n",
       "    }\n",
       "\n",
       "    .dataframe thead th {\n",
       "        text-align: right;\n",
       "    }\n",
       "</style>\n",
       "<table border=\"1\" class=\"dataframe\">\n",
       "  <thead>\n",
       "    <tr style=\"text-align: right;\">\n",
       "      <th></th>\n",
       "      <th>room</th>\n",
       "      <th>time_slot</th>\n",
       "    </tr>\n",
       "  </thead>\n",
       "  <tbody>\n",
       "    <tr>\n",
       "      <th>0</th>\n",
       "      <td>0</td>\n",
       "      <td>0</td>\n",
       "    </tr>\n",
       "    <tr>\n",
       "      <th>1</th>\n",
       "      <td>4</td>\n",
       "      <td>28</td>\n",
       "    </tr>\n",
       "    <tr>\n",
       "      <th>2</th>\n",
       "      <td>4</td>\n",
       "      <td>12</td>\n",
       "    </tr>\n",
       "    <tr>\n",
       "      <th>3</th>\n",
       "      <td>0</td>\n",
       "      <td>12</td>\n",
       "    </tr>\n",
       "    <tr>\n",
       "      <th>4</th>\n",
       "      <td>0</td>\n",
       "      <td>53</td>\n",
       "    </tr>\n",
       "    <tr>\n",
       "      <th>5</th>\n",
       "      <td>4</td>\n",
       "      <td>44</td>\n",
       "    </tr>\n",
       "    <tr>\n",
       "      <th>6</th>\n",
       "      <td>4</td>\n",
       "      <td>20</td>\n",
       "    </tr>\n",
       "    <tr>\n",
       "      <th>7</th>\n",
       "      <td>2</td>\n",
       "      <td>36</td>\n",
       "    </tr>\n",
       "    <tr>\n",
       "      <th>8</th>\n",
       "      <td>5</td>\n",
       "      <td>16</td>\n",
       "    </tr>\n",
       "    <tr>\n",
       "      <th>9</th>\n",
       "      <td>4</td>\n",
       "      <td>4</td>\n",
       "    </tr>\n",
       "    <tr>\n",
       "      <th>10</th>\n",
       "      <td>5</td>\n",
       "      <td>24</td>\n",
       "    </tr>\n",
       "    <tr>\n",
       "      <th>11</th>\n",
       "      <td>0</td>\n",
       "      <td>20</td>\n",
       "    </tr>\n",
       "  </tbody>\n",
       "</table>\n",
       "</div>"
      ],
      "text/plain": [
       "    room  time_slot\n",
       "0      0          0\n",
       "1      4         28\n",
       "2      4         12\n",
       "3      0         12\n",
       "4      0         53\n",
       "5      4         44\n",
       "6      4         20\n",
       "7      2         36\n",
       "8      5         16\n",
       "9      4          4\n",
       "10     5         24\n",
       "11     0         20"
      ]
     },
     "execution_count": 414,
     "metadata": {},
     "output_type": "execute_result"
    }
   ],
   "source": [
    "result_timetable"
   ]
  },
  {
   "cell_type": "code",
   "execution_count": 398,
   "id": "fc72ccb3",
   "metadata": {},
   "outputs": [],
   "source": [
    "new_timetable = local_search(timetable, teaching_curriculum)"
   ]
  },
  {
   "cell_type": "code",
   "execution_count": 363,
   "id": "29e7aabf",
   "metadata": {},
   "outputs": [
    {
     "data": {
      "text/html": [
       "<div>\n",
       "<style scoped>\n",
       "    .dataframe tbody tr th:only-of-type {\n",
       "        vertical-align: middle;\n",
       "    }\n",
       "\n",
       "    .dataframe tbody tr th {\n",
       "        vertical-align: top;\n",
       "    }\n",
       "\n",
       "    .dataframe thead th {\n",
       "        text-align: right;\n",
       "    }\n",
       "</style>\n",
       "<table border=\"1\" class=\"dataframe\">\n",
       "  <thead>\n",
       "    <tr style=\"text-align: right;\">\n",
       "      <th></th>\n",
       "      <th>room</th>\n",
       "      <th>time_slot</th>\n",
       "    </tr>\n",
       "  </thead>\n",
       "  <tbody>\n",
       "    <tr>\n",
       "      <th>0</th>\n",
       "      <td>3</td>\n",
       "      <td>54</td>\n",
       "    </tr>\n",
       "    <tr>\n",
       "      <th>1</th>\n",
       "      <td>0</td>\n",
       "      <td>50</td>\n",
       "    </tr>\n",
       "    <tr>\n",
       "      <th>2</th>\n",
       "      <td>12</td>\n",
       "      <td>6</td>\n",
       "    </tr>\n",
       "    <tr>\n",
       "      <th>3</th>\n",
       "      <td>4</td>\n",
       "      <td>30</td>\n",
       "    </tr>\n",
       "    <tr>\n",
       "      <th>4</th>\n",
       "      <td>0</td>\n",
       "      <td>41</td>\n",
       "    </tr>\n",
       "    <tr>\n",
       "      <th>5</th>\n",
       "      <td>1</td>\n",
       "      <td>6</td>\n",
       "    </tr>\n",
       "    <tr>\n",
       "      <th>6</th>\n",
       "      <td>5</td>\n",
       "      <td>1</td>\n",
       "    </tr>\n",
       "    <tr>\n",
       "      <th>7</th>\n",
       "      <td>6</td>\n",
       "      <td>37</td>\n",
       "    </tr>\n",
       "    <tr>\n",
       "      <th>8</th>\n",
       "      <td>1</td>\n",
       "      <td>36</td>\n",
       "    </tr>\n",
       "    <tr>\n",
       "      <th>9</th>\n",
       "      <td>11</td>\n",
       "      <td>28</td>\n",
       "    </tr>\n",
       "    <tr>\n",
       "      <th>10</th>\n",
       "      <td>0</td>\n",
       "      <td>29</td>\n",
       "    </tr>\n",
       "    <tr>\n",
       "      <th>11</th>\n",
       "      <td>11</td>\n",
       "      <td>0</td>\n",
       "    </tr>\n",
       "  </tbody>\n",
       "</table>\n",
       "</div>"
      ],
      "text/plain": [
       "    room  time_slot\n",
       "0      3         54\n",
       "1      0         50\n",
       "2     12          6\n",
       "3      4         30\n",
       "4      0         41\n",
       "5      1          6\n",
       "6      5          1\n",
       "7      6         37\n",
       "8      1         36\n",
       "9     11         28\n",
       "10     0         29\n",
       "11    11          0"
      ]
     },
     "execution_count": 363,
     "metadata": {},
     "output_type": "execute_result"
    }
   ],
   "source": [
    "result_timetable"
   ]
  },
  {
   "cell_type": "code",
   "execution_count": 356,
   "id": "b6a91f54",
   "metadata": {},
   "outputs": [
    {
     "data": {
      "text/html": [
       "<div>\n",
       "<style scoped>\n",
       "    .dataframe tbody tr th:only-of-type {\n",
       "        vertical-align: middle;\n",
       "    }\n",
       "\n",
       "    .dataframe tbody tr th {\n",
       "        vertical-align: top;\n",
       "    }\n",
       "\n",
       "    .dataframe thead th {\n",
       "        text-align: right;\n",
       "    }\n",
       "</style>\n",
       "<table border=\"1\" class=\"dataframe\">\n",
       "  <thead>\n",
       "    <tr style=\"text-align: right;\">\n",
       "      <th></th>\n",
       "      <th>room</th>\n",
       "      <th>time_slot</th>\n",
       "    </tr>\n",
       "  </thead>\n",
       "  <tbody>\n",
       "    <tr>\n",
       "      <th>0</th>\n",
       "      <td>0</td>\n",
       "      <td>0</td>\n",
       "    </tr>\n",
       "    <tr>\n",
       "      <th>1</th>\n",
       "      <td>2</td>\n",
       "      <td>56</td>\n",
       "    </tr>\n",
       "    <tr>\n",
       "      <th>2</th>\n",
       "      <td>2</td>\n",
       "      <td>0</td>\n",
       "    </tr>\n",
       "    <tr>\n",
       "      <th>3</th>\n",
       "      <td>2</td>\n",
       "      <td>4</td>\n",
       "    </tr>\n",
       "    <tr>\n",
       "      <th>4</th>\n",
       "      <td>4</td>\n",
       "      <td>0</td>\n",
       "    </tr>\n",
       "    <tr>\n",
       "      <th>5</th>\n",
       "      <td>5</td>\n",
       "      <td>0</td>\n",
       "    </tr>\n",
       "    <tr>\n",
       "      <th>6</th>\n",
       "      <td>6</td>\n",
       "      <td>0</td>\n",
       "    </tr>\n",
       "    <tr>\n",
       "      <th>7</th>\n",
       "      <td>7</td>\n",
       "      <td>0</td>\n",
       "    </tr>\n",
       "    <tr>\n",
       "      <th>8</th>\n",
       "      <td>8</td>\n",
       "      <td>0</td>\n",
       "    </tr>\n",
       "    <tr>\n",
       "      <th>9</th>\n",
       "      <td>6</td>\n",
       "      <td>15</td>\n",
       "    </tr>\n",
       "    <tr>\n",
       "      <th>10</th>\n",
       "      <td>10</td>\n",
       "      <td>0</td>\n",
       "    </tr>\n",
       "    <tr>\n",
       "      <th>11</th>\n",
       "      <td>9</td>\n",
       "      <td>41</td>\n",
       "    </tr>\n",
       "  </tbody>\n",
       "</table>\n",
       "</div>"
      ],
      "text/plain": [
       "    room  time_slot\n",
       "0      0          0\n",
       "1      2         56\n",
       "2      2          0\n",
       "3      2          4\n",
       "4      4          0\n",
       "5      5          0\n",
       "6      6          0\n",
       "7      7          0\n",
       "8      8          0\n",
       "9      6         15\n",
       "10    10          0\n",
       "11     9         41"
      ]
     },
     "execution_count": 356,
     "metadata": {},
     "output_type": "execute_result"
    }
   ],
   "source": [
    "k = 5\n",
    "newtimetable = shaking(timetable, teaching_curriculum)\n",
    "newtimetable"
   ]
  },
  {
   "cell_type": "code",
   "execution_count": 323,
   "id": "5ebb282a",
   "metadata": {},
   "outputs": [
    {
     "name": "stdout",
     "output_type": "stream",
     "text": [
      "52 1\n",
      "52 1\n",
      "52 1\n",
      "52 1\n",
      "52 1\n",
      "52 1\n",
      "52 1\n",
      "52 1\n",
      "52 1\n",
      "52 1\n",
      "52 1\n",
      "52 1\n"
     ]
    },
    {
     "data": {
      "text/html": [
       "<div>\n",
       "<style scoped>\n",
       "    .dataframe tbody tr th:only-of-type {\n",
       "        vertical-align: middle;\n",
       "    }\n",
       "\n",
       "    .dataframe tbody tr th {\n",
       "        vertical-align: top;\n",
       "    }\n",
       "\n",
       "    .dataframe thead th {\n",
       "        text-align: right;\n",
       "    }\n",
       "</style>\n",
       "<table border=\"1\" class=\"dataframe\">\n",
       "  <thead>\n",
       "    <tr style=\"text-align: right;\">\n",
       "      <th></th>\n",
       "      <th>room</th>\n",
       "      <th>time_slot</th>\n",
       "    </tr>\n",
       "  </thead>\n",
       "  <tbody>\n",
       "    <tr>\n",
       "      <th>0</th>\n",
       "      <td>0</td>\n",
       "      <td>0</td>\n",
       "    </tr>\n",
       "    <tr>\n",
       "      <th>1</th>\n",
       "      <td>1</td>\n",
       "      <td>0</td>\n",
       "    </tr>\n",
       "    <tr>\n",
       "      <th>2</th>\n",
       "      <td>2</td>\n",
       "      <td>0</td>\n",
       "    </tr>\n",
       "    <tr>\n",
       "      <th>3</th>\n",
       "      <td>3</td>\n",
       "      <td>0</td>\n",
       "    </tr>\n",
       "    <tr>\n",
       "      <th>4</th>\n",
       "      <td>4</td>\n",
       "      <td>0</td>\n",
       "    </tr>\n",
       "    <tr>\n",
       "      <th>5</th>\n",
       "      <td>5</td>\n",
       "      <td>0</td>\n",
       "    </tr>\n",
       "    <tr>\n",
       "      <th>6</th>\n",
       "      <td>6</td>\n",
       "      <td>0</td>\n",
       "    </tr>\n",
       "    <tr>\n",
       "      <th>7</th>\n",
       "      <td>7</td>\n",
       "      <td>0</td>\n",
       "    </tr>\n",
       "    <tr>\n",
       "      <th>8</th>\n",
       "      <td>8</td>\n",
       "      <td>0</td>\n",
       "    </tr>\n",
       "    <tr>\n",
       "      <th>9</th>\n",
       "      <td>9</td>\n",
       "      <td>0</td>\n",
       "    </tr>\n",
       "    <tr>\n",
       "      <th>10</th>\n",
       "      <td>10</td>\n",
       "      <td>0</td>\n",
       "    </tr>\n",
       "    <tr>\n",
       "      <th>11</th>\n",
       "      <td>11</td>\n",
       "      <td>0</td>\n",
       "    </tr>\n",
       "  </tbody>\n",
       "</table>\n",
       "</div>"
      ],
      "text/plain": [
       "    room  time_slot\n",
       "0      0          0\n",
       "1      1          0\n",
       "2      2          0\n",
       "3      3          0\n",
       "4      4          0\n",
       "5      5          0\n",
       "6      6          0\n",
       "7      7          0\n",
       "8      8          0\n",
       "9      9          0\n",
       "10    10          0\n",
       "11    11          0"
      ]
     },
     "execution_count": 323,
     "metadata": {},
     "output_type": "execute_result"
    }
   ],
   "source": [
    "new_timetable = local_search(timetable, teaching_curriculum)\n",
    "new_timetable"
   ]
  },
  {
   "cell_type": "code",
   "execution_count": 133,
   "id": "bca4c7bd",
   "metadata": {},
   "outputs": [],
   "source": [
    "def lecturer_constraint(timetable):\n",
    "    count = 0\n",
    "    for t1 in timetable:\n",
    "        for t2 in timetable:\n",
    "            if t1 != t2:\n",
    "                if teaching_curriculum[t1]['lecturer'] == teaching_curriculum[t2]['lecturer'] and timetable[t1][1] == timetable[t2][1]:\n",
    "                    count += 1\n",
    "    return count"
   ]
  },
  {
   "cell_type": "code",
   "execution_count": 134,
   "id": "51c93d9a",
   "metadata": {},
   "outputs": [],
   "source": [
    "def group_constraint(timetable):\n",
    "    count = 0\n",
    "    for t1 in timetable:\n",
    "        for t2 in timetable:\n",
    "            if t1 != t2:\n",
    "                if teaching_curriculum[t1]['group'] == teaching_curriculum[t2]['group'] and timetable[t1][1] == timetable[t2][1]:\n",
    "                    count += 1\n",
    "    return count"
   ]
  },
  {
   "cell_type": "code",
   "execution_count": 135,
   "id": "44759d61",
   "metadata": {},
   "outputs": [],
   "source": [
    "def room_constraint(timetable):\n",
    "    count = 0\n",
    "    for t1 in timetable:\n",
    "        for t2 in timetable:\n",
    "            if t1 != t2:\n",
    "                if timetable[t1][0] == timetable[t2][0] and timetable[t1][1] == timetable[t2][1]:\n",
    "                    count += 1\n",
    "    return count"
   ]
  },
  {
   "cell_type": "code",
   "execution_count": 136,
   "id": "f25550de",
   "metadata": {},
   "outputs": [],
   "source": [
    "def calculate_fittnes(timetable):\n",
    "    return lecturer_constraint(timetable) + group_constraint(timetable) + room_constraint(timetable)"
   ]
  },
  {
   "cell_type": "code",
   "execution_count": 127,
   "id": "76a8091f",
   "metadata": {},
   "outputs": [
    {
     "name": "stdout",
     "output_type": "stream",
     "text": [
      "('704', 0) ('718', 0)\n",
      "('718', 0) ('704', 0)\n",
      "('704', 1) ('718', 1)\n",
      "('718', 1) ('704', 1)\n"
     ]
    },
    {
     "data": {
      "text/plain": [
       "4"
      ]
     },
     "execution_count": 127,
     "metadata": {},
     "output_type": "execute_result"
    }
   ],
   "source": [
    "calculate_fittnes(timetable)"
   ]
  },
  {
   "cell_type": "code",
   "execution_count": 1,
   "id": "5be3b105",
   "metadata": {},
   "outputs": [],
   "source": [
    "def local_search(timetable):\n",
    "    best_timetable = copy.deepcopy(timetable)\n",
    "    best_fitness = calculate_fittnes(timetable)\n",
    "    while(True):\n",
    "        print('iter')\n",
    "        for t in timetable:\n",
    "            if timetable[t][1] % 12 > 0:\n",
    "                current_timetable = copy.deepcopy(timetable)\n",
    "                current_timetable[t] = (timetable[t][0], timetable[t][1] - 1)\n",
    "                current_fittness = calculate_fittnes(current_timetable)\n",
    "                if current_fittness < best_fitness:\n",
    "                    best_timetable = copy.deepcopy(current_timetable)\n",
    "                    best_fitness = current_fittness\n",
    "            if timetable[t][1] % 12 < 11:\n",
    "                current_timetable = copy.deepcopy(timetable)\n",
    "                current_timetable[t] = (timetable[t][0], timetable[t][1] + 1)\n",
    "                current_fittness = calculate_fittnes(current_timetable)\n",
    "                if current_fittness < best_fitness:\n",
    "                    best_timetable = copy.deepcopy(current_timetable)\n",
    "                    best_fitness = current_fittness\n",
    "            for room in rooms:\n",
    "                current_timetable = copy.deepcopy(timetable)\n",
    "                current_timetable[t] = (room, timetable[t][1])\n",
    "                current_fittness = calculate_fittnes(current_timetable)\n",
    "                if current_fittness < best_fitness:\n",
    "                    best_timetable = copy.deepcopy(current_timetable)\n",
    "                    best_fitness = current_fittness\n",
    "        if best_fitness < calculate_fittnes(timetable):\n",
    "            print(best_fitness)\n",
    "            timetable = copy.deepcopy(best_timetable)\n",
    "        else:\n",
    "            break\n",
    "    return timetable"
   ]
  },
  {
   "cell_type": "code",
   "execution_count": 157,
   "id": "e907deb7",
   "metadata": {},
   "outputs": [
    {
     "data": {
      "text/plain": [
       "{'0': ('704', 1), '1': ('718', 0), '2': ('704', 2), '3': ('718', 1)}"
      ]
     },
     "execution_count": 157,
     "metadata": {},
     "output_type": "execute_result"
    }
   ],
   "source": [
    "timetable"
   ]
  },
  {
   "cell_type": "code",
   "execution_count": 155,
   "id": "67602c67",
   "metadata": {},
   "outputs": [
    {
     "data": {
      "text/plain": [
       "0"
      ]
     },
     "execution_count": 155,
     "metadata": {},
     "output_type": "execute_result"
    }
   ],
   "source": [
    "calculate_fittnes(timetable)"
   ]
  },
  {
   "cell_type": "code",
   "execution_count": 150,
   "id": "e057a6aa",
   "metadata": {},
   "outputs": [
    {
     "data": {
      "text/plain": [
       "6"
      ]
     },
     "execution_count": 150,
     "metadata": {},
     "output_type": "execute_result"
    }
   ],
   "source": [
    "best_fitness"
   ]
  },
  {
   "cell_type": "code",
   "execution_count": 120,
   "id": "f870a335",
   "metadata": {},
   "outputs": [],
   "source": [
    "current_timetable['0'] = ('704', 2)"
   ]
  },
  {
   "cell_type": "code",
   "execution_count": 121,
   "id": "1c1ca9e1",
   "metadata": {},
   "outputs": [
    {
     "data": {
      "text/plain": [
       "{'0': ('704', 2), '1': ('718', 0), '2': ('704', 1), '3': ('718', 1)}"
      ]
     },
     "execution_count": 121,
     "metadata": {},
     "output_type": "execute_result"
    }
   ],
   "source": [
    "current_timetable"
   ]
  },
  {
   "cell_type": "code",
   "execution_count": 122,
   "id": "3e5ebdfd",
   "metadata": {},
   "outputs": [
    {
     "data": {
      "text/plain": [
       "{'0': ('704', 0), '1': ('718', 0), '2': ('704', 1), '3': ('718', 1)}"
      ]
     },
     "execution_count": 122,
     "metadata": {},
     "output_type": "execute_result"
    }
   ],
   "source": [
    "timetable"
   ]
  },
  {
   "cell_type": "code",
   "execution_count": 173,
   "id": "3f07380d",
   "metadata": {},
   "outputs": [],
   "source": [
    "def shaking(timetable):\n",
    "    time_table_shaking = copy.deepcopy(timetable)\n",
    "    for j in range(k):\n",
    "        keys = list(timetable.keys())\n",
    "        random_key = keys[random.randint(0, len(keys)-1)]\n",
    "        time_table_shaking[random_key] = (random.choice(rooms), random.choice(time_slots))\n",
    "    return time_table_shaking"
   ]
  },
  {
   "cell_type": "code",
   "execution_count": 163,
   "id": "7bddfdbd",
   "metadata": {},
   "outputs": [
    {
     "name": "stdout",
     "output_type": "stream",
     "text": [
      "('704', 2)\n"
     ]
    }
   ],
   "source": [
    "keys = list(timetable.keys())\n",
    "random_key = keys[random.randint(0, len(keys)-1)]\n",
    "print(timetable[random_key])"
   ]
  },
  {
   "cell_type": "code",
   "execution_count": 167,
   "id": "e520e64f",
   "metadata": {},
   "outputs": [
    {
     "data": {
      "text/plain": [
       "'704'"
      ]
     },
     "execution_count": 167,
     "metadata": {},
     "output_type": "execute_result"
    }
   ],
   "source": [
    "random.choice(rooms)"
   ]
  },
  {
   "cell_type": "code",
   "execution_count": 169,
   "id": "b0ed4e30",
   "metadata": {},
   "outputs": [
    {
     "data": {
      "text/plain": [
       "32"
      ]
     },
     "execution_count": 169,
     "metadata": {},
     "output_type": "execute_result"
    }
   ],
   "source": [
    "random.choice(time_slots)"
   ]
  },
  {
   "cell_type": "code",
   "execution_count": 178,
   "id": "be65abf7",
   "metadata": {},
   "outputs": [
    {
     "name": "stdout",
     "output_type": "stream",
     "text": [
      "iter\n",
      "iter\n",
      "iter\n",
      "iter\n",
      "iter\n",
      "iter\n",
      "iter\n",
      "iter\n",
      "iter\n",
      "iter\n"
     ]
    }
   ],
   "source": [
    "result_timetable = init_timetable()\n",
    "for i in range(10):\n",
    "    timetable = copy.deepcopy(result_timetable)\n",
    "    timetable = shaking(timetable)\n",
    "    timetable = local_search(timetable)\n",
    "    if calculate_fittnes(timetable) < calculate_fittnes(result_timetable):\n",
    "        result_timetable = timetable"
   ]
  },
  {
   "cell_type": "code",
   "execution_count": 177,
   "id": "511ae2b7",
   "metadata": {},
   "outputs": [
    {
     "data": {
      "text/plain": [
       "{'0': ('704', 1), '1': ('718', 0), '2': ('718', 40), '3': ('704', 20)}"
      ]
     },
     "execution_count": 177,
     "metadata": {},
     "output_type": "execute_result"
    }
   ],
   "source": [
    "result_timetable"
   ]
  },
  {
   "cell_type": "code",
   "execution_count": 179,
   "id": "0a7253d9",
   "metadata": {},
   "outputs": [
    {
     "data": {
      "text/plain": [
       "{'0': ('704', 26), '1': ('718', 57), '2': ('704', 56), '3': ('718', 1)}"
      ]
     },
     "execution_count": 179,
     "metadata": {},
     "output_type": "execute_result"
    }
   ],
   "source": [
    "result_timetable"
   ]
  },
  {
   "cell_type": "code",
   "execution_count": null,
   "id": "aa5a708f",
   "metadata": {},
   "outputs": [],
   "source": []
  }
 ],
 "metadata": {
  "kernelspec": {
   "display_name": "Python 3 (ipykernel)",
   "language": "python",
   "name": "python3"
  },
  "language_info": {
   "codemirror_mode": {
    "name": "ipython",
    "version": 3
   },
   "file_extension": ".py",
   "mimetype": "text/x-python",
   "name": "python",
   "nbconvert_exporter": "python",
   "pygments_lexer": "ipython3",
   "version": "3.11.1"
  }
 },
 "nbformat": 4,
 "nbformat_minor": 5
}
